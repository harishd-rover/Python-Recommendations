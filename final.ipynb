{
 "cells": [
  {
   "cell_type": "code",
   "execution_count": 7,
   "metadata": {},
   "outputs": [
    {
     "data": {
      "text/html": [
       "<div>\n",
       "<style scoped>\n",
       "    .dataframe tbody tr th:only-of-type {\n",
       "        vertical-align: middle;\n",
       "    }\n",
       "\n",
       "    .dataframe tbody tr th {\n",
       "        vertical-align: top;\n",
       "    }\n",
       "\n",
       "    .dataframe thead th {\n",
       "        text-align: right;\n",
       "    }\n",
       "</style>\n",
       "<table border=\"1\" class=\"dataframe\">\n",
       "  <thead>\n",
       "    <tr style=\"text-align: right;\">\n",
       "      <th></th>\n",
       "      <th>userId</th>\n",
       "      <th>movieId</th>\n",
       "      <th>rating</th>\n",
       "      <th>timestamp</th>\n",
       "    </tr>\n",
       "  </thead>\n",
       "  <tbody>\n",
       "    <tr>\n",
       "      <th>0</th>\n",
       "      <td>1</td>\n",
       "      <td>1</td>\n",
       "      <td>4.0</td>\n",
       "      <td>964982703</td>\n",
       "    </tr>\n",
       "    <tr>\n",
       "      <th>1</th>\n",
       "      <td>1</td>\n",
       "      <td>3</td>\n",
       "      <td>4.0</td>\n",
       "      <td>964981247</td>\n",
       "    </tr>\n",
       "    <tr>\n",
       "      <th>2</th>\n",
       "      <td>1</td>\n",
       "      <td>6</td>\n",
       "      <td>4.0</td>\n",
       "      <td>964982224</td>\n",
       "    </tr>\n",
       "    <tr>\n",
       "      <th>3</th>\n",
       "      <td>1</td>\n",
       "      <td>47</td>\n",
       "      <td>5.0</td>\n",
       "      <td>964983815</td>\n",
       "    </tr>\n",
       "    <tr>\n",
       "      <th>4</th>\n",
       "      <td>1</td>\n",
       "      <td>50</td>\n",
       "      <td>5.0</td>\n",
       "      <td>964982931</td>\n",
       "    </tr>\n",
       "  </tbody>\n",
       "</table>\n",
       "</div>"
      ],
      "text/plain": [
       "   userId  movieId  rating  timestamp\n",
       "0       1        1     4.0  964982703\n",
       "1       1        3     4.0  964981247\n",
       "2       1        6     4.0  964982224\n",
       "3       1       47     5.0  964983815\n",
       "4       1       50     5.0  964982931"
      ]
     },
     "execution_count": 7,
     "metadata": {},
     "output_type": "execute_result"
    }
   ],
   "source": [
    "import numpy as np\n",
    "import pandas as pd\n",
    "import matplotlib.pyplot as plt\n",
    "\n",
    "data = pd.read_csv(\"./data/ratings.csv\")\n",
    "data.head()\n"
   ]
  },
  {
   "cell_type": "code",
   "execution_count": 8,
   "metadata": {},
   "outputs": [
    {
     "data": {
      "text/plain": [
       "userId         int64\n",
       "movieId        int64\n",
       "rating       float64\n",
       "timestamp      int64\n",
       "dtype: object"
      ]
     },
     "execution_count": 8,
     "metadata": {},
     "output_type": "execute_result"
    }
   ],
   "source": [
    "data.dtypes"
   ]
  },
  {
   "cell_type": "code",
   "execution_count": 9,
   "metadata": {},
   "outputs": [
    {
     "data": {
      "text/plain": [
       "userId       0\n",
       "movieId      0\n",
       "rating       0\n",
       "timestamp    0\n",
       "dtype: int64"
      ]
     },
     "execution_count": 9,
     "metadata": {},
     "output_type": "execute_result"
    }
   ],
   "source": [
    "data.isnull().sum()"
   ]
  },
  {
   "cell_type": "code",
   "execution_count": 21,
   "metadata": {},
   "outputs": [],
   "source": [
    "import numpy as np\n",
    "import pandas as pd\n",
    "\n",
    "from surprise import Reader, Dataset, SVD, BaselineOnly, NMF, accuracy, KNNBasic\n",
    "from surprise.model_selection import train_test_split"
   ]
  },
  {
   "cell_type": "code",
   "execution_count": 22,
   "metadata": {},
   "outputs": [],
   "source": [
    "class DatasetBuilder():\n",
    "    def __init__(self, data_location):\n",
    "        reader = Reader()\n",
    "        self.ratings = pd.read_csv(f\"{data_location}/ratings.csv\")\n",
    "        self.movies = pd.read_csv(f'{data_location}/movies.csv')\n",
    "        \n",
    "        self.dataset = Dataset.load_from_df(self.ratings[['userId', 'movieId', 'rating']], reader)\n",
    "        self.train_dataset, self.test_dataset = train_test_split(self.dataset, test_size=0.2)\n",
    "        \n",
    "    def get_movie_title(movie_id):\n",
    "        self.movies[self.movies['movieId'] == movie_id].title"
   ]
  },
  {
   "cell_type": "code",
   "execution_count": 23,
   "metadata": {},
   "outputs": [],
   "source": [
    "class AlgosGym():\n",
    "    def __init__(self, dataset):\n",
    "        self.algos = []\n",
    "        self.dataset = dataset\n",
    "        \n",
    "    def addAlgorithm(self, algo):\n",
    "        self.algos.append(algo)\n",
    "        \n",
    "    def train_and_evaluate(self):\n",
    "        for algo in self.algos:\n",
    "            algo.fit(self.dataset.train_dataset)\n",
    "            predictions = algo.test(self.dataset.test_dataset)\n",
    "            rmse = accuracy.rmse(predictions)\n",
    "            mae = accuracy.mae(predictions)\n",
    "            \n",
    "            print('-----------')\n",
    "            print(f'{algo.__class__.__name__}') \n",
    "            print('-----------')\n",
    "            print(f'      Metrics - RMSE: {rmse}, MAE: {mae}')\n",
    "            print('-----------')\n",
    "              "
   ]
  },
  {
   "cell_type": "code",
   "execution_count": 25,
   "metadata": {},
   "outputs": [
    {
     "name": "stdout",
     "output_type": "stream",
     "text": [
      "Computing the msd similarity matrix...\n",
      "Done computing similarity matrix.\n",
      "RMSE: 0.9486\n",
      "MAE:  0.7242\n",
      "-----------\n",
      "KNNBasic\n",
      "-----------\n",
      "      Metrics - RMSE: 0.9485696565537738, MAE: 0.724154542202811\n",
      "-----------\n",
      "RMSE: 0.8772\n",
      "MAE:  0.6725\n",
      "-----------\n",
      "SVD\n",
      "-----------\n",
      "      Metrics - RMSE: 0.8771965410299277, MAE: 0.6725162427173131\n",
      "-----------\n",
      "RMSE: 0.9247\n",
      "MAE:  0.7059\n",
      "-----------\n",
      "NMF\n",
      "-----------\n",
      "      Metrics - RMSE: 0.9247219188829704, MAE: 0.705914240846551\n",
      "-----------\n"
     ]
    }
   ],
   "source": [
    "dataset = DatasetBuilder('./data/')\n",
    "gym = AlgosGym(dataset)\n",
    "\n",
    "knn = KNNBasic()\n",
    "gym.addAlgorithm(knn)\n",
    "\n",
    "svd = SVD()\n",
    "gym.addAlgorithm(svd)\n",
    "\n",
    "nmf = NMF()\n",
    "gym.addAlgorithm(nmf)\n",
    "\n",
    "gym.train_and_evaluate()"
   ]
  },
  {
   "cell_type": "code",
   "execution_count": null,
   "metadata": {},
   "outputs": [],
   "source": []
  }
 ],
 "metadata": {
  "kernelspec": {
   "display_name": "datamachine",
   "language": "python",
   "name": "datamachine"
  },
  "language_info": {
   "codemirror_mode": {
    "name": "ipython",
    "version": 3
   },
   "file_extension": ".py",
   "mimetype": "text/x-python",
   "name": "python",
   "nbconvert_exporter": "python",
   "pygments_lexer": "ipython3",
   "version": "3.6.12"
  }
 },
 "nbformat": 4,
 "nbformat_minor": 4
}
